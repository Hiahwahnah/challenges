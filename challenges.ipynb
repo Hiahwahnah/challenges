{
 "cells": [
  {
   "cell_type": "code",
   "execution_count": 6,
   "metadata": {},
   "outputs": [
    {
     "name": "stdout",
     "output_type": "stream",
     "text": [
      "1.0 radians converts to 57.29577951308232 degrees\n"
     ]
    }
   ],
   "source": [
    "# CONVERT RADIANS TO DEGREES\n",
    "\n",
    "# import math library\n",
    "import math\n",
    "\n",
    "# get the input\n",
    "radians = float(input(\"Input the radians please: \"))\n",
    "\n",
    "# calculate conversion\n",
    "degrees =  radians*(180/(math.pi))\n",
    "\n",
    "# print results\n",
    "print(str(radians) + \" radians converts to \" + str(degrees) + \" degrees\")"
   ]
  },
  {
   "cell_type": "code",
   "execution_count": 5,
   "metadata": {},
   "outputs": [
    {
     "name": "stdout",
     "output_type": "stream",
     "text": [
      "Your name is Richard and your age is 38.\n"
     ]
    }
   ],
   "source": [
    "# CREATE A FUNCTION\n",
    "\n",
    "def identity(name, age):\n",
    "    print(\"Your name is \" + name + \" and your age is \" + age + \".\")\n",
    "    \n",
    "what_name = str(input(\"What is your name?: \"))\n",
    "what_age = str(input(\"How old are you?: \"))\n",
    "\n",
    "identity(what_name,what_age)"
   ]
  },
  {
   "cell_type": "code",
   "execution_count": 2,
   "metadata": {},
   "outputs": [
    {
     "data": {
      "text/plain": [
       "[54, 2, 95, 74, 55]"
      ]
     },
     "execution_count": 2,
     "metadata": {},
     "output_type": "execute_result"
    }
   ],
   "source": [
    "# SORT A LIST\n",
    "\n",
    "import random\n",
    "\n",
    "# create a function to sort the list based on the users choice\n",
    "def sort_numbers(numbers, order):\n",
    "    \n",
    "    if order == 'asc':\n",
    "        numbers.sort()\n",
    "        \n",
    "    elif order == 'desc':\n",
    "        numbers.sort(reverse=True)\n",
    "        \n",
    "    elif order == 'none':\n",
    "        pass\n",
    "    \n",
    "    else:\n",
    "        print('Invalid order parameter')\n",
    "        \n",
    "    return numbers\n",
    "\n",
    "# Prompt the user for the number of numbers they want in their list\n",
    "num_numbers = int(input(\"How many numbers do you want in your list? \"))\n",
    "\n",
    "# Generate a list of random integers\n",
    "list_numbers = [random.randint(1, 100) for _ in range(num_numbers)]\n",
    "\n",
    "# Prompt the user for the desired order of the list\n",
    "list_order = input(\"Do you want the list in ascending order (asc), descending order (desc), or unaltered (none)? \")\n",
    "\n",
    "sort_numbers(list_numbers, list_order)"
   ]
  }
 ],
 "metadata": {
  "kernelspec": {
   "display_name": "Python 3",
   "language": "python",
   "name": "python3"
  },
  "language_info": {
   "codemirror_mode": {
    "name": "ipython",
    "version": 3
   },
   "file_extension": ".py",
   "mimetype": "text/x-python",
   "name": "python",
   "nbconvert_exporter": "python",
   "pygments_lexer": "ipython3",
   "version": "3.11.1"
  },
  "orig_nbformat": 4,
  "vscode": {
   "interpreter": {
    "hash": "c19fcfbef25e0793fe4e1245110512e3a3d9ac917435d41f597d2a9d1fc970d3"
   }
  }
 },
 "nbformat": 4,
 "nbformat_minor": 2
}
