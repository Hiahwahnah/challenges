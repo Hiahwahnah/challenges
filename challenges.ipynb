{
 "cells": [
  {
   "cell_type": "code",
   "execution_count": 6,
   "metadata": {},
   "outputs": [
    {
     "name": "stdout",
     "output_type": "stream",
     "text": [
      "1.0 radians converts to 57.29577951308232 degrees\n"
     ]
    }
   ],
   "source": [
    "# CONVERT RADIANS TO DEGREES\n",
    "\n",
    "# import math library\n",
    "import math\n",
    "\n",
    "# get the input\n",
    "radians = float(input(\"Input the radians please: \"))\n",
    "\n",
    "# calculate conversion\n",
    "degrees =  radians*(180/(math.pi))\n",
    "\n",
    "# print results\n",
    "print(str(radians) + \" radians converts to \" + str(degrees) + \" degrees\")"
   ]
  }
 ],
 "metadata": {
  "kernelspec": {
   "display_name": "Python 3",
   "language": "python",
   "name": "python3"
  },
  "language_info": {
   "codemirror_mode": {
    "name": "ipython",
    "version": 3
   },
   "file_extension": ".py",
   "mimetype": "text/x-python",
   "name": "python",
   "nbconvert_exporter": "python",
   "pygments_lexer": "ipython3",
   "version": "3.11.1"
  },
  "orig_nbformat": 4,
  "vscode": {
   "interpreter": {
    "hash": "c19fcfbef25e0793fe4e1245110512e3a3d9ac917435d41f597d2a9d1fc970d3"
   }
  }
 },
 "nbformat": 4,
 "nbformat_minor": 2
}
